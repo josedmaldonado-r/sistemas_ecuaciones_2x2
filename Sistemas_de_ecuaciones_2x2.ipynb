{
  "nbformat": 4,
  "nbformat_minor": 0,
  "metadata": {
    "colab": {
      "provenance": [],
      "authorship_tag": "ABX9TyMgDYcQBux+x3KgNUq1gTbf",
      "include_colab_link": true
    },
    "kernelspec": {
      "name": "python3",
      "display_name": "Python 3"
    },
    "language_info": {
      "name": "python"
    }
  },
  "cells": [
    {
      "cell_type": "markdown",
      "metadata": {
        "id": "view-in-github",
        "colab_type": "text"
      },
      "source": [
        "<a href=\"https://colab.research.google.com/github/josedmaldonado-r/sistemas_ecuaciones_2x2/blob/main/Sistemas_de_ecuaciones_2x2.ipynb\" target=\"_parent\"><img src=\"https://colab.research.google.com/assets/colab-badge.svg\" alt=\"Open In Colab\"/></a>"
      ]
    },
    {
      "cell_type": "code",
      "source": [
        "!pip install --upgrade\n",
        "!pip install sympy\n",
        "import sympy"
      ],
      "metadata": {
        "colab": {
          "base_uri": "https://localhost:8080/"
        },
        "id": "GMxXQvkZFCXh",
        "outputId": "6804a4a8-00e6-4ee0-82ff-212f19dee7fe"
      },
      "execution_count": 1,
      "outputs": [
        {
          "output_type": "stream",
          "name": "stdout",
          "text": [
            "\u001b[31mERROR: You must give at least one requirement to install (see \"pip help install\")\u001b[0m\u001b[31m\n",
            "\u001b[0mRequirement already satisfied: sympy in /usr/local/lib/python3.12/dist-packages (1.13.3)\n",
            "Requirement already satisfied: mpmath<1.4,>=1.1.0 in /usr/local/lib/python3.12/dist-packages (from sympy) (1.3.0)\n"
          ]
        }
      ]
    },
    {
      "cell_type": "code",
      "source": [
        "from sympy import symbols, Eq, solve\n",
        "\n",
        "# Definimos las variables\n",
        "x, y = symbols('x y')\n",
        "\n",
        "print(\"Resolviendo un sistema 2x2 con el MÉTODO DE SUSTITUCIÓN\")\n",
        "print(\"Forma general:\")\n",
        "print(\"a1*x + b1*y = c1\")\n",
        "print(\"a2*x + b2*y = c2\")\n",
        "print(\"-\" * 50)\n",
        "\n",
        "# Pedimos los coeficientes al usuario\n",
        "a1, b1, c1 = map(float, input(\"Ingrese los coeficientes de la primera ecuación (a1 b1 c1): \").split())\n",
        "a2, b2, c2 = map(float, input(\"Ingrese los coeficientes de la segunda ecuación (a2 b2 c2): \").split())\n",
        "\n",
        "# Creamos las ecuaciones\n",
        "ec1 = Eq(a1*x + b1*y, c1)\n",
        "ec2 = Eq(a2*x + b2*y, c2)\n",
        "\n",
        "print(\"\\nEcuaciones ingresadas:\")\n",
        "print(\"E1:\", ec1)\n",
        "print(\"E2:\", ec2)\n",
        "\n",
        "# Paso 1: Despejar x de la primera ecuación\n",
        "despeje_x = solve(ec1, x)[0]\n",
        "print(f\"\\nPaso 1: Despejamos x de la primera ecuación:\")\n",
        "print(f\"x = {despeje_x}\")\n",
        "\n",
        "# Paso 2: Sustituimos x en la segunda ecuación\n",
        "print(\"\\nPaso 2: Sustituimos x en la segunda ecuación:\")\n",
        "ec2_sust = ec2.subs(x, despeje_x)\n",
        "print(\"Ecuación en y:\", ec2_sust)\n",
        "\n",
        "# Paso 3: Resolver para y\n",
        "sol_y = solve(ec2_sust, y)[0]\n",
        "print(f\"\\nPaso 3: Resolviendo para y obtenemos: y = {sol_y}\")\n",
        "\n",
        "# Paso 4: Sustituir y en la ecuación de x\n",
        "sol_x = despeje_x.subs(y, sol_y)\n",
        "print(f\"\\nPaso 4: Sustituyendo y en la ecuación despejada obtenemos: x = {sol_x}\")\n",
        "\n",
        "# Solución final\n",
        "print(\"\\n✅ Solución del sistema:\")\n",
        "print(f\"x = {sol_x}, y = {sol_y}\")"
      ],
      "metadata": {
        "colab": {
          "base_uri": "https://localhost:8080/"
        },
        "id": "EiG9hlEaFehB",
        "outputId": "a1bb133c-b871-463d-97cd-cf9fa2430fe5"
      },
      "execution_count": 2,
      "outputs": [
        {
          "output_type": "stream",
          "name": "stdout",
          "text": [
            "Resolviendo un sistema 2x2 con el MÉTODO DE SUSTITUCIÓN\n",
            "Forma general:\n",
            "a1*x + b1*y = c1\n",
            "a2*x + b2*y = c2\n",
            "--------------------------------------------------\n",
            "Ingrese los coeficientes de la primera ecuación (a1 b1 c1): 1 -2 1\n",
            "Ingrese los coeficientes de la segunda ecuación (a2 b2 c2): 2 3 9\n",
            "\n",
            "Ecuaciones ingresadas:\n",
            "E1: Eq(1.0*x - 2.0*y, 1.0)\n",
            "E2: Eq(2.0*x + 3.0*y, 9.0)\n",
            "\n",
            "Paso 1: Despejamos x de la primera ecuación:\n",
            "x = 2.0*y + 1.0\n",
            "\n",
            "Paso 2: Sustituimos x en la segunda ecuación:\n",
            "Ecuación en y: Eq(7.0*y + 2.0, 9.0)\n",
            "\n",
            "Paso 3: Resolviendo para y obtenemos: y = 1.00000000000000\n",
            "\n",
            "Paso 4: Sustituyendo y en la ecuación despejada obtenemos: x = 3.00000000000000\n",
            "\n",
            "✅ Solución del sistema:\n",
            "x = 3.00000000000000, y = 1.00000000000000\n"
          ]
        }
      ]
    },
    {
      "cell_type": "code",
      "source": [
        "from sympy import symbols, Eq, solve\n",
        "\n",
        "# Definimos las variables\n",
        "x, y = symbols('x y')\n",
        "\n",
        "print(\"Resolviendo un sistema 2x2 con el MÉTODO DE SUSTITUCIÓN\")\n",
        "print(\"Forma general:\")\n",
        "print(\"a1*x + b1*y = c1\")\n",
        "print(\"a2*x + b2*y = c2\")\n",
        "print(\"-\" * 50)\n",
        "\n",
        "# Pedimos los coeficientes al usuario\n",
        "a1, b1, c1 = map(float, input(\"Ingrese los coeficientes de la primera ecuación (a1 b1 c1): \").split())\n",
        "a2, b2, c2 = map(float, input(\"Ingrese los coeficientes de la segunda ecuación (a2 b2 c2): \").split())\n",
        "\n",
        "# Creamos las ecuaciones\n",
        "ec1 = Eq(a1*x + b1*y, c1)\n",
        "ec2 = Eq(a2*x + b2*y, c2)\n",
        "\n",
        "print(\"\\nEcuaciones ingresadas:\")\n",
        "print(\"E1:\", ec1)\n",
        "print(\"E2:\", ec2)\n",
        "\n",
        "# Paso 1: Despejar x de la primera ecuación\n",
        "despeje_x = solve(ec1, x)[0]\n",
        "print(f\"\\nPaso 1: Despejamos x de la primera ecuación:\")\n",
        "print(f\"x = {despeje_x}\")\n",
        "\n",
        "# Paso 2: Sustituimos x en la segunda ecuación\n",
        "print(\"\\nPaso 2: Sustituimos x en la segunda ecuación:\")\n",
        "ec2_sust = ec2.subs(x, despeje_x)\n",
        "print(\"Ecuación en y:\", ec2_sust)\n",
        "\n",
        "# Paso 3: Resolver para y\n",
        "sol_y = solve(ec2_sust, y)[0]\n",
        "print(f\"\\nPaso 3: Resolviendo para y obtenemos: y = {sol_y}\")\n",
        "\n",
        "# Paso 4: Sustituir y en la ecuación de x\n",
        "sol_x = despeje_x.subs(y, sol_y)\n",
        "print(f\"\\nPaso 4: Sustituyendo y en la ecuación despejada obtenemos: x = {sol_x}\")\n",
        "\n",
        "# Solución final\n",
        "print(\"\\n✅ Solución del sistema:\")\n",
        "print(f\"x = {sol_x}, y = {sol_y}\")"
      ],
      "metadata": {
        "colab": {
          "base_uri": "https://localhost:8080/"
        },
        "id": "xr7gjcyrjQd3",
        "outputId": "2d04f904-4b81-4405-96f9-b2a85d6cb45b"
      },
      "execution_count": 3,
      "outputs": [
        {
          "output_type": "stream",
          "name": "stdout",
          "text": [
            "Resolviendo un sistema 2x2 con el MÉTODO DE SUSTITUCIÓN\n",
            "Forma general:\n",
            "a1*x + b1*y = c1\n",
            "a2*x + b2*y = c2\n",
            "--------------------------------------------------\n",
            "Ingrese los coeficientes de la primera ecuación (a1 b1 c1): 1 3 6\n",
            "Ingrese los coeficientes de la segunda ecuación (a2 b2 c2): 5 -2 13\n",
            "\n",
            "Ecuaciones ingresadas:\n",
            "E1: Eq(1.0*x + 3.0*y, 6.0)\n",
            "E2: Eq(5.0*x - 2.0*y, 13.0)\n",
            "\n",
            "Paso 1: Despejamos x de la primera ecuación:\n",
            "x = 6.0 - 3.0*y\n",
            "\n",
            "Paso 2: Sustituimos x en la segunda ecuación:\n",
            "Ecuación en y: Eq(30.0 - 17.0*y, 13.0)\n",
            "\n",
            "Paso 3: Resolviendo para y obtenemos: y = 1.00000000000000\n",
            "\n",
            "Paso 4: Sustituyendo y en la ecuación despejada obtenemos: x = 3.00000000000000\n",
            "\n",
            "✅ Solución del sistema:\n",
            "x = 3.00000000000000, y = 1.00000000000000\n"
          ]
        }
      ]
    },
    {
      "cell_type": "code",
      "source": [
        "from sympy import symbols, Eq, solve\n",
        "\n",
        "# Definimos las variables\n",
        "x, y = symbols('x y')\n",
        "\n",
        "print(\"Resolviendo un sistema 2x2 con el MÉTODO DE SUSTITUCIÓN\")\n",
        "print(\"Forma general:\")\n",
        "print(\"a1*x + b1*y = c1\")\n",
        "print(\"a2*x + b2*y = c2\")\n",
        "print(\"-\" * 50)\n",
        "\n",
        "# Pedimos los coeficientes al usuario\n",
        "a1, b1, c1 = map(float, input(\"Ingrese los coeficientes de la primera ecuación (a1 b1 c1): \").split())\n",
        "a2, b2, c2 = map(float, input(\"Ingrese los coeficientes de la segunda ecuación (a2 b2 c2): \").split())\n",
        "\n",
        "# Creamos las ecuaciones\n",
        "ec1 = Eq(a1*x + b1*y, c1)\n",
        "ec2 = Eq(a2*x + b2*y, c2)\n",
        "\n",
        "print(\"\\nEcuaciones ingresadas:\")\n",
        "print(\"E1:\", ec1)\n",
        "print(\"E2:\", ec2)\n",
        "\n",
        "# Paso 1: Despejar x de la primera ecuación\n",
        "despeje_x = solve(ec1, x)[0]\n",
        "print(f\"\\nPaso 1: Despejamos x de la primera ecuación:\")\n",
        "print(f\"x = {despeje_x}\")\n",
        "\n",
        "# Paso 2: Sustituimos x en la segunda ecuación\n",
        "print(\"\\nPaso 2: Sustituimos x en la segunda ecuación:\")\n",
        "ec2_sust = ec2.subs(x, despeje_x)\n",
        "print(\"Ecuación en y:\", ec2_sust)\n",
        "\n",
        "# Paso 3: Resolver para y\n",
        "sol_y = solve(ec2_sust, y)[0]\n",
        "print(f\"\\nPaso 3: Resolviendo para y obtenemos: y = {sol_y}\")\n",
        "\n",
        "# Paso 4: Sustituir y en la ecuación de x\n",
        "sol_x = despeje_x.subs(y, sol_y)\n",
        "print(f\"\\nPaso 4: Sustituyendo y en la ecuación despejada obtenemos: x = {sol_x}\")\n",
        "\n",
        "# Solución final\n",
        "print(\"\\n✅ Solución del sistema:\")\n",
        "print(f\"x = {sol_x}, y = {sol_y}\")"
      ],
      "metadata": {
        "colab": {
          "base_uri": "https://localhost:8080/"
        },
        "id": "qeHFRyrIjXWU",
        "outputId": "92313f47-5f30-4cf3-ccea-d49c7f86118f"
      },
      "execution_count": 4,
      "outputs": [
        {
          "output_type": "stream",
          "name": "stdout",
          "text": [
            "Resolviendo un sistema 2x2 con el MÉTODO DE SUSTITUCIÓN\n",
            "Forma general:\n",
            "a1*x + b1*y = c1\n",
            "a2*x + b2*y = c2\n",
            "--------------------------------------------------\n",
            "Ingrese los coeficientes de la primera ecuación (a1 b1 c1): 5 7 -1\n",
            "Ingrese los coeficientes de la segunda ecuación (a2 b2 c2): -3 4 -24\n",
            "\n",
            "Ecuaciones ingresadas:\n",
            "E1: Eq(5.0*x + 7.0*y, -1.0)\n",
            "E2: Eq(-3.0*x + 4.0*y, -24.0)\n",
            "\n",
            "Paso 1: Despejamos x de la primera ecuación:\n",
            "x = -1.4*y - 0.2\n",
            "\n",
            "Paso 2: Sustituimos x en la segunda ecuación:\n",
            "Ecuación en y: Eq(8.2*y + 0.6, -24.0)\n",
            "\n",
            "Paso 3: Resolviendo para y obtenemos: y = -3.00000000000000\n",
            "\n",
            "Paso 4: Sustituyendo y en la ecuación despejada obtenemos: x = 4.00000000000000\n",
            "\n",
            "✅ Solución del sistema:\n",
            "x = 4.00000000000000, y = -3.00000000000000\n"
          ]
        }
      ]
    },
    {
      "cell_type": "code",
      "source": [
        "from sympy import symbols, Eq, solve\n",
        "\n",
        "# Definimos las variables\n",
        "x, y = symbols('x y')\n",
        "\n",
        "print(\"Resolviendo un sistema 2x2 con el MÉTODO DE SUSTITUCIÓN\")\n",
        "print(\"Forma general:\")\n",
        "print(\"a1*x + b1*y = c1\")\n",
        "print(\"a2*x + b2*y = c2\")\n",
        "print(\"-\" * 50)\n",
        "\n",
        "# Pedimos los coeficientes al usuario\n",
        "a1, b1, c1 = map(float, input(\"Ingrese los coeficientes de la primera ecuación (a1 b1 c1): \").split())\n",
        "a2, b2, c2 = map(float, input(\"Ingrese los coeficientes de la segunda ecuación (a2 b2 c2): \").split())\n",
        "\n",
        "# Creamos las ecuaciones\n",
        "ec1 = Eq(a1*x + b1*y, c1)\n",
        "ec2 = Eq(a2*x + b2*y, c2)\n",
        "\n",
        "print(\"\\nEcuaciones ingresadas:\")\n",
        "print(\"E1:\", ec1)\n",
        "print(\"E2:\", ec2)\n",
        "\n",
        "# Paso 1: Despejar x de la primera ecuación\n",
        "despeje_x = solve(ec1, x)[0]\n",
        "print(f\"\\nPaso 1: Despejamos x de la primera ecuación:\")\n",
        "print(f\"x = {despeje_x}\")\n",
        "\n",
        "# Paso 2: Sustituimos x en la segunda ecuación\n",
        "print(\"\\nPaso 2: Sustituimos x en la segunda ecuación:\")\n",
        "ec2_sust = ec2.subs(x, despeje_x)\n",
        "print(\"Ecuación en y:\", ec2_sust)\n",
        "\n",
        "# Paso 3: Resolver para y\n",
        "sol_y = solve(ec2_sust, y)[0]\n",
        "print(f\"\\nPaso 3: Resolviendo para y obtenemos: y = {sol_y}\")\n",
        "\n",
        "# Paso 4: Sustituir y en la ecuación de x\n",
        "sol_x = despeje_x.subs(y, sol_y)\n",
        "print(f\"\\nPaso 4: Sustituyendo y en la ecuación despejada obtenemos: x = {sol_x}\")\n",
        "\n",
        "# Solución final\n",
        "print(\"\\n✅ Solución del sistema:\")\n",
        "print(f\"x = {sol_x}, y = {sol_y}\")"
      ],
      "metadata": {
        "colab": {
          "base_uri": "https://localhost:8080/"
        },
        "id": "p442FO4UjhpF",
        "outputId": "98091a62-462c-4455-86e9-d51b4444d16f"
      },
      "execution_count": 5,
      "outputs": [
        {
          "output_type": "stream",
          "name": "stdout",
          "text": [
            "Resolviendo un sistema 2x2 con el MÉTODO DE SUSTITUCIÓN\n",
            "Forma general:\n",
            "a1*x + b1*y = c1\n",
            "a2*x + b2*y = c2\n",
            "--------------------------------------------------\n",
            "Ingrese los coeficientes de la primera ecuación (a1 b1 c1): 5 11 32\n",
            "Ingrese los coeficientes de la segunda ecuación (a2 b2 c2): 7 -9 8\n",
            "\n",
            "Ecuaciones ingresadas:\n",
            "E1: Eq(5.0*x + 11.0*y, 32.0)\n",
            "E2: Eq(7.0*x - 9.0*y, 8.0)\n",
            "\n",
            "Paso 1: Despejamos x de la primera ecuación:\n",
            "x = 6.4 - 2.2*y\n",
            "\n",
            "Paso 2: Sustituimos x en la segunda ecuación:\n",
            "Ecuación en y: Eq(44.8 - 24.4*y, 8.0)\n",
            "\n",
            "Paso 3: Resolviendo para y obtenemos: y = 1.50819672131148\n",
            "\n",
            "Paso 4: Sustituyendo y en la ecuación despejada obtenemos: x = 3.08196721311475\n",
            "\n",
            "✅ Solución del sistema:\n",
            "x = 3.08196721311475, y = 1.50819672131148\n"
          ]
        }
      ]
    },
    {
      "cell_type": "code",
      "source": [
        "from sympy import symbols, Eq, solve\n",
        "\n",
        "# Definimos las variables\n",
        "x, y = symbols('x y')\n",
        "\n",
        "print(\"Resolviendo un sistema 2x2 con el MÉTODO DE SUSTITUCIÓN\")\n",
        "print(\"Forma general:\")\n",
        "print(\"a1*x + b1*y = c1\")\n",
        "print(\"a2*x + b2*y = c2\")\n",
        "print(\"-\" * 50)\n",
        "\n",
        "# Pedimos los coeficientes al usuario\n",
        "a1, b1, c1 = map(float, input(\"Ingrese los coeficientes de la primera ecuación (a1 b1 c1): \").split())\n",
        "a2, b2, c2 = map(float, input(\"Ingrese los coeficientes de la segunda ecuación (a2 b2 c2): \").split())\n",
        "\n",
        "# Creamos las ecuaciones\n",
        "ec1 = Eq(a1*x + b1*y, c1)\n",
        "ec2 = Eq(a2*x + b2*y, c2)\n",
        "\n",
        "print(\"\\nEcuaciones ingresadas:\")\n",
        "print(\"E1:\", ec1)\n",
        "print(\"E2:\", ec2)\n",
        "\n",
        "# Paso 1: Despejar x de la primera ecuación\n",
        "despeje_x = solve(ec1, x)[0]\n",
        "print(f\"\\nPaso 1: Despejamos x de la primera ecuación:\")\n",
        "print(f\"x = {despeje_x}\")\n",
        "\n",
        "# Paso 2: Sustituimos x en la segunda ecuación\n",
        "print(\"\\nPaso 2: Sustituimos x en la segunda ecuación:\")\n",
        "ec2_sust = ec2.subs(x, despeje_x)\n",
        "print(\"Ecuación en y:\", ec2_sust)\n",
        "\n",
        "# Paso 3: Resolver para y\n",
        "sol_y = solve(ec2_sust, y)[0]\n",
        "print(f\"\\nPaso 3: Resolviendo para y obtenemos: y = {sol_y}\")\n",
        "\n",
        "# Paso 4: Sustituir y en la ecuación de x\n",
        "sol_x = despeje_x.subs(y, sol_y)\n",
        "print(f\"\\nPaso 4: Sustituyendo y en la ecuación despejada obtenemos: x = {sol_x}\")\n",
        "\n",
        "# Solución final\n",
        "print(\"\\n✅ Solución del sistema:\")\n",
        "print(f\"x = {sol_x}, y = {sol_y}\")"
      ],
      "metadata": {
        "colab": {
          "base_uri": "https://localhost:8080/"
        },
        "id": "_vTchtyvjr7R",
        "outputId": "c627acd3-4d6c-4416-bea9-844c317c061c"
      },
      "execution_count": 7,
      "outputs": [
        {
          "output_type": "stream",
          "name": "stdout",
          "text": [
            "Resolviendo un sistema 2x2 con el MÉTODO DE SUSTITUCIÓN\n",
            "Forma general:\n",
            "a1*x + b1*y = c1\n",
            "a2*x + b2*y = c2\n",
            "--------------------------------------------------\n",
            "Ingrese los coeficientes de la primera ecuación (a1 b1 c1): 10 18 -11\n",
            "Ingrese los coeficientes de la segunda ecuación (a2 b2 c2): 16 -9 -5\n",
            "\n",
            "Ecuaciones ingresadas:\n",
            "E1: Eq(10.0*x + 18.0*y, -11.0)\n",
            "E2: Eq(16.0*x - 9.0*y, -5.0)\n",
            "\n",
            "Paso 1: Despejamos x de la primera ecuación:\n",
            "x = -1.8*y - 1.1\n",
            "\n",
            "Paso 2: Sustituimos x en la segunda ecuación:\n",
            "Ecuación en y: Eq(-37.8*y - 17.6, -5.0)\n",
            "\n",
            "Paso 3: Resolviendo para y obtenemos: y = -0.333333333333333\n",
            "\n",
            "Paso 4: Sustituyendo y en la ecuación despejada obtenemos: x = -0.500000000000000\n",
            "\n",
            "✅ Solución del sistema:\n",
            "x = -0.500000000000000, y = -0.333333333333333\n"
          ]
        }
      ]
    },
    {
      "cell_type": "code",
      "source": [
        "from sympy import symbols, Eq, solve\n",
        "\n",
        "# Definimos las variables\n",
        "x, y = symbols('x y')\n",
        "\n",
        "print(\"Resolviendo un sistema 2x2 con el MÉTODO DE SUSTITUCIÓN\")\n",
        "print(\"Forma general:\")\n",
        "print(\"a1*x + b1*y = c1\")\n",
        "print(\"a2*x + b2*y = c2\")\n",
        "print(\"-\" * 50)\n",
        "\n",
        "# Pedimos los coeficientes al usuario\n",
        "a1, b1, c1 = map(float, input(\"Ingrese los coeficientes de la primera ecuación (a1 b1 c1): \").split())\n",
        "a2, b2, c2 = map(float, input(\"Ingrese los coeficientes de la segunda ecuación (a2 b2 c2): \").split())\n",
        "\n",
        "# Creamos las ecuaciones\n",
        "ec1 = Eq(a1*x + b1*y, c1)\n",
        "ec2 = Eq(a2*x + b2*y, c2)\n",
        "\n",
        "print(\"\\nEcuaciones ingresadas:\")\n",
        "print(\"E1:\", ec1)\n",
        "print(\"E2:\", ec2)\n",
        "\n",
        "# Paso 1: Despejar x de la primera ecuación\n",
        "despeje_x = solve(ec1, x)[0]\n",
        "print(f\"\\nPaso 1: Despejamos x de la primera ecuación:\")\n",
        "print(f\"x = {despeje_x}\")\n",
        "\n",
        "# Paso 2: Sustituimos x en la segunda ecuación\n",
        "print(\"\\nPaso 2: Sustituimos x en la segunda ecuación:\")\n",
        "ec2_sust = ec2.subs(x, despeje_x)\n",
        "print(\"Ecuación en y:\", ec2_sust)\n",
        "\n",
        "# Paso 3: Resolver para y\n",
        "sol_y = solve(ec2_sust, y)[0]\n",
        "print(f\"\\nPaso 3: Resolviendo para y obtenemos: y = {sol_y}\")\n",
        "\n",
        "# Paso 4: Sustituir y en la ecuación de x\n",
        "sol_x = despeje_x.subs(y, sol_y)\n",
        "print(f\"\\nPaso 4: Sustituyendo y en la ecuación despejada obtenemos: x = {sol_x}\")\n",
        "\n",
        "# Solución final\n",
        "print(\"\\n✅ Solución del sistema:\")\n",
        "print(f\"x = {sol_x}, y = {sol_y}\")"
      ],
      "metadata": {
        "colab": {
          "base_uri": "https://localhost:8080/"
        },
        "id": "mvlulgBMjuSt",
        "outputId": "3181f7a2-52d8-4077-e62d-24de628bdded"
      },
      "execution_count": 8,
      "outputs": [
        {
          "output_type": "stream",
          "name": "stdout",
          "text": [
            "Resolviendo un sistema 2x2 con el MÉTODO DE SUSTITUCIÓN\n",
            "Forma general:\n",
            "a1*x + b1*y = c1\n",
            "a2*x + b2*y = c2\n",
            "--------------------------------------------------\n",
            "Ingrese los coeficientes de la primera ecuación (a1 b1 c1): 4 5 5\n",
            "Ingrese los coeficientes de la segunda ecuación (a2 b2 c2): -10 -4 -7\n",
            "\n",
            "Ecuaciones ingresadas:\n",
            "E1: Eq(4.0*x + 5.0*y, 5.0)\n",
            "E2: Eq(-10.0*x - 4.0*y, -7.0)\n",
            "\n",
            "Paso 1: Despejamos x de la primera ecuación:\n",
            "x = 1.25 - 1.25*y\n",
            "\n",
            "Paso 2: Sustituimos x en la segunda ecuación:\n",
            "Ecuación en y: Eq(8.5*y - 12.5, -7.0)\n",
            "\n",
            "Paso 3: Resolviendo para y obtenemos: y = 0.647058823529412\n",
            "\n",
            "Paso 4: Sustituyendo y en la ecuación despejada obtenemos: x = 0.441176470588235\n",
            "\n",
            "✅ Solución del sistema:\n",
            "x = 0.441176470588235, y = 0.647058823529412\n"
          ]
        }
      ]
    },
    {
      "cell_type": "code",
      "source": [],
      "metadata": {
        "id": "isRXXQZ5kVeG"
      },
      "execution_count": null,
      "outputs": []
    }
  ]
}